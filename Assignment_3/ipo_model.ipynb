{
 "cells": [
  {
   "cell_type": "code",
   "execution_count": 28,
   "metadata": {},
   "outputs": [],
   "source": [
    "%matplotlib inline\n",
    "import pandas as pd\n",
    "import matplotlib.pyplot as plt\n",
    "import numpy as np\n",
    "from sklearn.model_selection import train_test_split, GridSearchCV\n",
    "from sklearn.linear_model import Lasso, LogisticRegression\n",
    "from sklearn.preprocessing import PolynomialFeatures,StandardScaler\n",
    "from sklearn.pipeline import make_pipeline, Pipeline\n",
    "from sklearn.metrics import classification_report\n",
    "from sklearn.dummy import DummyClassifier\n",
    "from sklearn.feature_selection import VarianceThreshold\n",
    "from sklearn.neighbors import KNeighborsClassifier"
   ]
  },
  {
   "cell_type": "markdown",
   "metadata": {},
   "source": [
    "# Functions"
   ]
  },
  {
   "cell_type": "code",
   "execution_count": 3,
   "metadata": {},
   "outputs": [],
   "source": [
    "#function to clean data (everything that Jacob did)\n",
    "def clean_data(df):\n",
    "    df = df.applymap(lambda x: x if not '$' in str(x) else x.replace('$', ''))\n",
    "    df = df.applymap(lambda x: x if not '%' in str(x) else x.replace('%', ''))\n",
    "    df.loc[1258, 'date'] = '2012-11-20'\n",
    "    df['date'] = pd.to_datetime(df['date'])\n",
    "    df['offer_price'] = df['offer_price'].astype('float')\n",
    "    df['open_price'] = df['open_price'].astype('float')\n",
    "    df['first_day_close'] = df['first_day_close'].astype('float')\n",
    "    df.replace('N/C', 0, inplace=True)\n",
    "    for col in df.columns[4:11]:\n",
    "        df[col] = df[col].astype('float')\n",
    "    return df"
   ]
  },
  {
   "cell_type": "code",
   "execution_count": 4,
   "metadata": {},
   "outputs": [],
   "source": [
    "#function to automatically drop columns based on lasso (used later)\n",
    "def lasso_subset(df, X, y):\n",
    "    X_train, X_test, y_train, y_test = train_test_split(X,y)\n",
    "    pipe = make_pipeline(StandardScaler(), Lasso())\n",
    "    params = {'lasso__alpha' : np.linspace(0.1,100,20)}\n",
    "    grid = GridSearchCV(pipe, param_grid=params)\n",
    "    grid.fit(X_train, y_train)\n",
    "    df = df[X_test.columns[grid.best_estimator_.named_steps.lasso.coef_ != 0]]\n",
    "    return df"
   ]
  },
  {
   "cell_type": "code",
   "execution_count": 5,
   "metadata": {},
   "outputs": [],
   "source": [
    "#function to shift periods in dataframe\n",
    "def shift_period(df, columns, period):\n",
    "    for column in columns:\n",
    "        column_name = 'prev_spy_' + column.lower().replace(' ','_')\n",
    "        df[column_name] = df[column].shift(periods=period)\n",
    "        df = df.drop(column, axis=1)\n",
    "    return df"
   ]
  },
  {
   "cell_type": "code",
   "execution_count": 6,
   "metadata": {},
   "outputs": [],
   "source": [
    "#function to train_test_split for time series\n",
    "def time_series_train_test_split(X, y, pct):\n",
    "    X_train = X[:round(X.shape[0]*pct)]\n",
    "    X_test = X[round(X.shape[0]*pct):]\n",
    "    y_train = y.head(round(X.shape[0]*pct))\n",
    "    y_test = y.tail(round(X.shape[0]*(1-pct)))\n",
    "    return X_train, X_test, y_train, y_test"
   ]
  },
  {
   "cell_type": "markdown",
   "metadata": {},
   "source": [
    "# Data cleaning"
   ]
  },
  {
   "cell_type": "code",
   "execution_count": 7,
   "metadata": {},
   "outputs": [],
   "source": [
    "#cleaning data and creating the y column\n",
    "df = pd.read_csv('data/ipo_scoop.csv', usecols=[0, 1, 2, 3, 4, 5, 6, 7, 8, 9, 10, 11], skiprows=2, names=['date', 'issuer', 'symbol', 'managers', 'offer_price', 'open_price', 'first_day_close', 'first_day_pctchg', 'dollar_change_open', 'dollar_change_close', 'star_rating', 'performed'])\n",
    "df = clean_data(df)\n",
    "df = df.drop(['performed', 'symbol', 'issuer'], axis=1)\n",
    "df = df.sort_values(by='date', ascending=True)\n",
    "df = df.reset_index()\n",
    "df['first_day_pct_change'] = (df['first_day_close'] - df['open_price']) / df['open_price']\n",
    "df['up_down'] = df['first_day_pct_change'].apply(lambda x: (x > 0)*1)"
   ]
  },
  {
   "cell_type": "code",
   "execution_count": 8,
   "metadata": {},
   "outputs": [
    {
     "data": {
      "text/plain": [
       "<matplotlib.axes._subplots.AxesSubplot at 0x1105c68d0>"
      ]
     },
     "execution_count": 8,
     "metadata": {},
     "output_type": "execute_result"
    },
    {
     "data": {
      "image/png": "[encoded data removed]",
      "text/plain": [
       "<Figure size 432x288 with 1 Axes>"
      ]
     },
     "metadata": {},
     "output_type": "display_data"
    }
   ],
   "source": [
    "#check that first_day_pct_change is normally distributed\n",
    "df.first_day_pct_change.hist(bins=100)"
   ]
  },
  {
   "cell_type": "code",
   "execution_count": 9,
   "metadata": {},
   "outputs": [],
   "source": [
    "#dropping rows that are NA and columns that can't be used as features. \n",
    "#For example, open_price/first_day_close can't be features. \n",
    "#This is because they are unknown at the time when making the decision to buy.\n",
    "df = df.drop(['open_price', 'first_day_close', 'first_day_pctchg', 'dollar_change_open', 'dollar_change_close', 'first_day_pct_change', 'index'], axis=1)\n",
    "df = df.dropna()"
   ]
  },
  {
   "cell_type": "markdown",
   "metadata": {},
   "source": [
    "# Feature engineering for SPY data"
   ]
  },
  {
   "cell_type": "code",
   "execution_count": 10,
   "metadata": {},
   "outputs": [],
   "source": [
    "spy = pd.read_csv('data/SPY.csv')\n",
    "spy = spy.drop('Close', axis=1)\n",
    "spy.sort_values('Date', inplace = True)\n",
    "spy.reset_index(drop= True, inplace = True)\n",
    "spy = spy.rename(columns = {'Date':'date'})"
   ]
  },
  {
   "cell_type": "code",
   "execution_count": 11,
   "metadata": {},
   "outputs": [],
   "source": [
    "#shift_period shifts the days up one and drops the entered columns\n",
    "spy = shift_period(df=spy, columns=['Open', 'High', 'Low', 'Adj Close', 'Volume'], period=1)\n",
    "spy.date = pd.to_datetime(spy.date)"
   ]
  },
  {
   "cell_type": "code",
   "execution_count": 12,
   "metadata": {},
   "outputs": [
    {
     "data": {
      "text/html": [
       "<div>\n",
       "<style scoped>\n",
       "    .dataframe tbody tr th:only-of-type {\n",
       "        vertical-align: middle;\n",
       "    }\n",
       "\n",
       "    .dataframe tbody tr th {\n",
       "        vertical-align: top;\n",
       "    }\n",
       "\n",
       "    .dataframe thead th {\n",
       "        text-align: right;\n",
       "    }\n",
       "</style>\n",
       "<table border=\"1\" class=\"dataframe\">\n",
       "  <thead>\n",
       "    <tr style=\"text-align: right;\">\n",
       "      <th></th>\n",
       "      <th>date</th>\n",
       "      <th>prev_spy_open</th>\n",
       "      <th>prev_spy_high</th>\n",
       "      <th>prev_spy_low</th>\n",
       "      <th>prev_spy_adj_close</th>\n",
       "      <th>prev_spy_volume</th>\n",
       "    </tr>\n",
       "  </thead>\n",
       "  <tbody>\n",
       "    <tr>\n",
       "      <th>0</th>\n",
       "      <td>1999-01-04</td>\n",
       "      <td>NaN</td>\n",
       "      <td>NaN</td>\n",
       "      <td>NaN</td>\n",
       "      <td>NaN</td>\n",
       "      <td>NaN</td>\n",
       "    </tr>\n",
       "    <tr>\n",
       "      <th>1</th>\n",
       "      <td>1999-01-05</td>\n",
       "      <td>123.3750</td>\n",
       "      <td>125.218697</td>\n",
       "      <td>121.718697</td>\n",
       "      <td>86.146408</td>\n",
       "      <td>9450400.0</td>\n",
       "    </tr>\n",
       "    <tr>\n",
       "      <th>2</th>\n",
       "      <td>1999-01-06</td>\n",
       "      <td>122.9375</td>\n",
       "      <td>124.875000</td>\n",
       "      <td>122.937500</td>\n",
       "      <td>87.131104</td>\n",
       "      <td>8031000.0</td>\n",
       "    </tr>\n",
       "    <tr>\n",
       "      <th>3</th>\n",
       "      <td>1999-01-07</td>\n",
       "      <td>125.8125</td>\n",
       "      <td>127.750000</td>\n",
       "      <td>125.750000</td>\n",
       "      <td>89.231712</td>\n",
       "      <td>7737700.0</td>\n",
       "    </tr>\n",
       "    <tr>\n",
       "      <th>4</th>\n",
       "      <td>1999-01-08</td>\n",
       "      <td>126.3750</td>\n",
       "      <td>127.218697</td>\n",
       "      <td>125.781197</td>\n",
       "      <td>88.794067</td>\n",
       "      <td>5504900.0</td>\n",
       "    </tr>\n",
       "  </tbody>\n",
       "</table>\n",
       "</div>"
      ],
      "text/plain": [
       "        date  prev_spy_open  prev_spy_high  prev_spy_low  prev_spy_adj_close  \\\n",
       "0 1999-01-04            NaN            NaN           NaN                 NaN   \n",
       "1 1999-01-05       123.3750     125.218697    121.718697           86.146408   \n",
       "2 1999-01-06       122.9375     124.875000    122.937500           87.131104   \n",
       "3 1999-01-07       125.8125     127.750000    125.750000           89.231712   \n",
       "4 1999-01-08       126.3750     127.218697    125.781197           88.794067   \n",
       "\n",
       "   prev_spy_volume  \n",
       "0              NaN  \n",
       "1        9450400.0  \n",
       "2        8031000.0  \n",
       "3        7737700.0  \n",
       "4        5504900.0  "
      ]
     },
     "execution_count": 12,
     "metadata": {},
     "output_type": "execute_result"
    }
   ],
   "source": [
    "spy.head()"
   ]
  },
  {
   "cell_type": "markdown",
   "metadata": {},
   "source": [
    "### Create some features such as moving averages (maybe later consider weighted numbers)"
   ]
  },
  {
   "cell_type": "code",
   "execution_count": 13,
   "metadata": {},
   "outputs": [],
   "source": [
    "#21 day and 5 day simple moving averages (normalize to make it stationary)\n",
    "spy['five_day_sam'] = spy['prev_spy_adj_close'].rolling(5).mean() / spy['prev_spy_adj_close']\n",
    "spy['twenty_one_day_sam'] = spy['prev_spy_adj_close'].rolling(21).mean()/spy['prev_spy_adj_close']"
   ]
  },
  {
   "cell_type": "code",
   "execution_count": 14,
   "metadata": {},
   "outputs": [],
   "source": [
    "#21 day high_low gap and 5 day high_low gap (normalize to make it stationary)\n",
    "spy['five_day_hi_lo_gap'] = (spy['prev_spy_high'].rolling(5).max() - spy['prev_spy_low'].rolling(5).min()) / spy['prev_spy_adj_close']\n",
    "spy['twenty_one_day_hi_lo_gap'] = (spy['prev_spy_high'].rolling(21).max() - spy['prev_spy_low'].rolling(21).max()) / spy['prev_spy_adj_close']"
   ]
  },
  {
   "cell_type": "markdown",
   "metadata": {},
   "source": [
    "# Feature engineering for IPO data"
   ]
  },
  {
   "cell_type": "code",
   "execution_count": 15,
   "metadata": {},
   "outputs": [],
   "source": [
    "# merge SPY and IPO data. delete 4 NAN values. delete date, since it can't be used in regression\n",
    "df = pd.merge(df, spy, how='left', on='date')\n",
    "df = df.dropna()\n",
    "df = df.drop('date', axis=1)"
   ]
  },
  {
   "cell_type": "code",
   "execution_count": 16,
   "metadata": {},
   "outputs": [],
   "source": [
    "# make managers seperate columns.\n",
    "df['managers'] = df.managers.str.split('/')\n",
    "df = df.join(pd.get_dummies(df.managers.apply(pd.Series).stack()).sum(level=0)).drop('managers', axis = 1)"
   ]
  },
  {
   "cell_type": "code",
   "execution_count": 17,
   "metadata": {
    "scrolled": true
   },
   "outputs": [
    {
     "name": "stdout",
     "output_type": "stream",
     "text": [
      "<class 'pandas.core.frame.DataFrame'>\n",
      "Int64Index: 3119 entries, 0 to 3122\n",
      "Empty DataFrame"
     ]
    }
   ],
   "source": [
    "#my lasso_subset seems to drop every column\n",
    "X = df.drop('up_down', axis=1)\n",
    "y = df.up_down\n",
    "df1 = lasso_subset(df, X, y)\n",
    "df1.info()"
   ]
  },
  {
   "cell_type": "code",
   "execution_count": 18,
   "metadata": {},
   "outputs": [],
   "source": [
    "#drop columns with low variance"
   ]
  },
  {
   "cell_type": "code",
   "execution_count": 19,
   "metadata": {},
   "outputs": [],
   "source": [
    "selector = VarianceThreshold(threshold=0.1)\n",
    "X = selector.fit_transform(X)"
   ]
  },
  {
   "cell_type": "code",
   "execution_count": 20,
   "metadata": {},
   "outputs": [],
   "source": [
    "X_train, X_test, y_train, y_test = time_series_train_test_split(X, y, pct=0.75)"
   ]
  },
  {
   "cell_type": "code",
   "execution_count": 21,
   "metadata": {},
   "outputs": [
    {
     "name": "stdout",
     "output_type": "stream",
     "text": [
      "             precision    recall  f1-score   support\n",
      "\n",
      "          0       0.54      1.00      0.71       425\n",
      "          1       0.00      0.00      0.00       355\n",
      "\n",
      "avg / total       0.30      0.54      0.38       780\n",
      "\n"
     ]
    },
    {
     "name": "stderr",
     "output_type": "stream",
     "text": [
      "/anaconda3/lib/python3.6/site-packages/sklearn/metrics/classification.py:1135: UndefinedMetricWarning: Precision and F-score are ill-defined and being set to 0.0 in labels with no predicted samples.\n",
      "  'precision', 'predicted', average, warn_for)\n"
     ]
    }
   ],
   "source": [
    "clf = LogisticRegression()\n",
    "clf.fit(X_train, y_train)\n",
    "clf.score(X_test, y_test)\n",
    "pred = clf.predict(X_test)\n",
    "print(classification_report(y_test, pred))"
   ]
  },
  {
   "cell_type": "code",
   "execution_count": 22,
   "metadata": {},
   "outputs": [
    {
     "name": "stdout",
     "output_type": "stream",
     "text": [
      "             precision    recall  f1-score   support\n",
      "\n",
      "          0       0.54      1.00      0.71       425\n",
      "          1       0.00      0.00      0.00       355\n",
      "\n",
      "avg / total       0.30      0.54      0.38       780\n",
      "\n"
     ]
    },
    {
     "name": "stderr",
     "output_type": "stream",
     "text": [
      "/anaconda3/lib/python3.6/site-packages/sklearn/metrics/classification.py:1135: UndefinedMetricWarning: Precision is ill-defined and being set to 0.0 due to no predicted samples.\n",
      "  'precision', 'predicted', average, warn_for)\n",
      "/anaconda3/lib/python3.6/site-packages/sklearn/metrics/classification.py:1135: UndefinedMetricWarning: Precision is ill-defined and being set to 0.0 due to no predicted samples.\n",
      "  'precision', 'predicted', average, warn_for)\n",
      "/anaconda3/lib/python3.6/site-packages/sklearn/metrics/classification.py:1135: UndefinedMetricWarning: Precision is ill-defined and being set to 0.0 due to no predicted samples.\n",
      "  'precision', 'predicted', average, warn_for)\n",
      "/anaconda3/lib/python3.6/site-packages/sklearn/metrics/classification.py:1135: UndefinedMetricWarning: Precision is ill-defined and being set to 0.0 due to no predicted samples.\n",
      "  'precision', 'predicted', average, warn_for)\n",
      "/anaconda3/lib/python3.6/site-packages/sklearn/metrics/classification.py:1135: UndefinedMetricWarning: Precision is ill-defined and being set to 0.0 due to no predicted samples.\n",
      "  'precision', 'predicted', average, warn_for)\n",
      "/anaconda3/lib/python3.6/site-packages/sklearn/metrics/classification.py:1135: UndefinedMetricWarning: Precision is ill-defined and being set to 0.0 due to no predicted samples.\n",
      "  'precision', 'predicted', average, warn_for)\n",
      "/anaconda3/lib/python3.6/site-packages/sklearn/metrics/classification.py:1135: UndefinedMetricWarning: Precision and F-score are ill-defined and being set to 0.0 in labels with no predicted samples.\n",
      "  'precision', 'predicted', average, warn_for)\n"
     ]
    }
   ],
   "source": [
    "clf = LogisticRegression()\n",
    "params = {'C': [0.1, 1.0, 5]}\n",
    "grid = GridSearchCV(clf, param_grid=params, scoring = 'precision')\n",
    "grid.fit(X_train, y_train)\n",
    "pred = grid.predict(X_test)\n",
    "print(classification_report(y_test, pred))"
   ]
  },
  {
   "cell_type": "code",
   "execution_count": 23,
   "metadata": {},
   "outputs": [
    {
     "name": "stdout",
     "output_type": "stream",
     "text": [
      "             precision    recall  f1-score   support\n",
      "\n",
      "          0       0.54      0.48      0.51       425\n",
      "          1       0.45      0.50      0.47       355\n",
      "\n",
      "avg / total       0.50      0.49      0.49       780\n",
      "\n"
     ]
    }
   ],
   "source": [
    "dum = DummyClassifier()\n",
    "dum.fit(X_train, y_train)\n",
    "pred = dum.predict(X_test)\n",
    "print(classification_report(y_test, pred))"
   ]
  },
  {
   "cell_type": "code",
   "execution_count": 25,
   "metadata": {},
   "outputs": [
    {
     "data": {
      "text/plain": [
       "1    1174\n",
       "0    1165\n",
       "Name: up_down, dtype: int64"
      ]
     },
     "execution_count": 25,
     "metadata": {},
     "output_type": "execute_result"
    }
   ],
   "source": [
    "y_train.value_counts()"
   ]
  },
  {
   "cell_type": "code",
   "execution_count": 26,
   "metadata": {},
   "outputs": [
    {
     "data": {
      "text/plain": [
       "0    425\n",
       "1    355\n",
       "Name: up_down, dtype: int64"
      ]
     },
     "execution_count": 26,
     "metadata": {},
     "output_type": "execute_result"
    }
   ],
   "source": [
    "y_test.value_counts()"
   ]
  },
  {
   "cell_type": "markdown",
   "metadata": {},
   "source": [
    "### K-nearest classifiers"
   ]
  },
  {
   "cell_type": "code",
   "execution_count": 30,
   "metadata": {},
   "outputs": [
    {
     "name": "stdout",
     "output_type": "stream",
     "text": [
      "             precision    recall  f1-score   support\n",
      "\n",
      "          0       0.53      0.54      0.53       425\n",
      "          1       0.43      0.42      0.43       355\n",
      "\n",
      "avg / total       0.48      0.48      0.48       780\n",
      "\n"
     ]
    }
   ],
   "source": [
    "params = {'n_neighbors': [i for i in range(2, 14)]}\n",
    "grid = GridSearchCV(KNeighborsClassifier(), param_grid=params, scoring = 'precision')\n",
    "grid.fit(X_train, y_train)\n",
    "pred = grid.predict(X_test)\n",
    "print(classification_report(y_test,pred))"
   ]
  }
 ],
 "metadata": {
  "kernelspec": {
   "display_name": "Python 3",
   "language": "python",
   "name": "python3"
  },
  "language_info": {
   "codemirror_mode": {
    "name": "ipython",
    "version": 3
   },
   "file_extension": ".py",
   "mimetype": "text/x-python",
   "name": "python",
   "nbconvert_exporter": "python",
   "pygments_lexer": "ipython3",
   "version": "3.6.5"
  }
 },
 "nbformat": 4,
 "nbformat_minor": 2
}
