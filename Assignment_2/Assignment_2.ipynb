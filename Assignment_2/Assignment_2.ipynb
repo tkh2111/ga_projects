{
 "cells": [
  {
   "cell_type": "code",
   "execution_count": 1,
   "metadata": {},
   "outputs": [],
   "source": [
    "%matplotlib inline\n",
    "import pandas as pd\n",
    "import matplotlib.pyplot as plt\n",
    "import numpy as np\n",
    "from sklearn.linear_model import LinearRegression, Lasso, Ridge, ElasticNet\n",
    "from sklearn.preprocessing import PolynomialFeatures,StandardScaler\n",
    "from sklearn.pipeline import make_pipeline, Pipeline\n",
    "from sklearn.model_selection import GridSearchCV, train_test_split\n",
    "from sklearn.metrics import mean_squared_error"
   ]
  },
  {
   "cell_type": "markdown",
   "metadata": {},
   "source": [
    "### STRATEGY 1: RUN ENTIRE DATA THROUGH LASSO, MODEL WILL DROP ALL UNCESSARY INPUTS"
   ]
  },
  {
   "cell_type": "code",
   "execution_count": 2,
   "metadata": {},
   "outputs": [],
   "source": [
    "#preprocessing data\n",
    "#fill NANs with 0, create dummy variables\n",
    "ames = pd.read_csv('data/ames_housing.csv')\n",
    "ames = ames.fillna(0)\n",
    "ames = pd.get_dummies(ames, drop_first=True)\n",
    "\n",
    "#create train_test_split\n",
    "X = ames.drop(['SalePrice','Id'], axis = 1)\n",
    "y = ames['SalePrice']\n",
    "ames_numeric = X.select_dtypes(include = ['int64','float64'])\n",
    "X_train, X_test, y_train, y_test = train_test_split(X,y)"
   ]
  },
  {
   "cell_type": "code",
   "execution_count": 3,
   "metadata": {},
   "outputs": [],
   "source": [
    "#lasso with train test split doesn't run because there are TOO MANY VARIABLES; FAILS TO CONVERGE\n",
    "pipe = make_pipeline(StandardScaler(), PolynomialFeatures(), Lasso())\n",
    "params = {'polynomialfeatures__degree' : [1,2,3]}\n",
    "grid = GridSearchCV(pipe, param_grid=params, cv=4)\n",
    "#grid.fit(X_train, y_train)"
   ]
  },
  {
   "cell_type": "markdown",
   "metadata": {},
   "source": [
    "### STRATEGY 2: ELIMINATE COLUMNS THAT I *THINK* ARE LESS IMPORTANT(NO DOMAIN KNOWLEDGE). WILL RUN THROUGH LASSO ONE MORE TIME AFTER TO DROP ADDITIONAL COLUMNS."
   ]
  },
  {
   "cell_type": "markdown",
   "metadata": {},
   "source": [
    "##### Preprocessing data"
   ]
  },
  {
   "cell_type": "code",
   "execution_count": 4,
   "metadata": {},
   "outputs": [],
   "source": [
    "#extract nessary columns first\n",
    "ames = pd.read_csv('data/ames_housing.csv') \n",
    "ames = ames[['LotArea', 'Street', 'LandSlope','BldgType', 'OverallQual',\n",
    "             'YearBuilt', 'RoofStyle', 'BsmtQual', 'HeatingQC', 'CentralAir', \n",
    "             'GrLivArea', 'TotRmsAbvGrd', 'FireplaceQu', 'GarageQual', 'PoolQC',\n",
    "             'MiscVal', 'SalePrice']]\n",
    "\n",
    "#Replacing ordinal variables and filling missing values with 0, since that implies those houses are missing those units\n",
    "ames = ames.replace({\"LandSlope\": {'Gtl':3, 'Mod':2, 'Sev':1}, \n",
    "                     \"BsmtQual\" : {'Ex': 5, 'Gd':4, 'TA':3, 'Fa':2, 'Po':1},\n",
    "                     \"HeatingQC\": {'Ex': 5, 'Gd':4, 'TA':3, 'Fa':2, 'Po':1},\n",
    "                     \"FireplaceQu\": {'Ex': 5, 'Gd':4, 'TA':3, 'Fa':2, 'Po':1},\n",
    "                     \"GarageQual\": {'Ex': 5, 'Gd':4, 'TA':3, 'Fa':2, 'Po':1},\n",
    "                     \"PoolQC\": {'Ex': 5, 'Gd':4, 'TA':3, 'Fa':2, 'Po':1}})\n",
    "ames = ames.fillna(0)\n",
    "\n",
    "\n",
    "#Creating dummy variables from Street, Neighborhood, BldgType, RoofStyle, CentralAir\n",
    "ames = pd.get_dummies(ames, drop_first=True)\n",
    "\n",
    "#Create new column for fun called quality_test (addition of all quality/oridnal columns)\n",
    "ames['quality_test'] = ames['LandSlope'] + ames['OverallQual'] + ames['BsmtQual'] + ames['HeatingQC'] + ames['FireplaceQu'] + ames['GarageQual'] + ames['PoolQC']"
   ]
  },
  {
   "cell_type": "code",
   "execution_count": 5,
   "metadata": {},
   "outputs": [
    {
     "data": {
      "text/plain": [
       "Text(0.5,1,'OverallQual')"
      ]
     },
     "execution_count": 5,
     "metadata": {},
     "output_type": "execute_result"
    },
    {
     "data": {
      "image/png": "[encoded data removed]",
      "text/plain": [
       "<Figure size 432x288 with 2 Axes>"
      ]
     },
     "metadata": {},
     "output_type": "display_data"
    }
   ],
   "source": [
    "# quick look at outputs to see range and relationship to quality_test, Overall_quality.\n",
    "plt.subplot(1,2,1)\n",
    "plt.scatter(ames.quality_test, ames.SalePrice);\n",
    "plt.title('quality_test')\n",
    "\n",
    "plt.subplot(1,2,2)\n",
    "plt.scatter(ames.OverallQual, ames.SalePrice);\n",
    "plt.title('OverallQual')"
   ]
  },
  {
   "cell_type": "code",
   "execution_count": 6,
   "metadata": {},
   "outputs": [],
   "source": [
    "#Creating train_test_split and scaling\n",
    "#DO I HAVE TO TAKE LOG OF OUTPUTS?!?!??!?!?!\n",
    "X = ames.drop('SalePrice', axis = 1)\n",
    "y = ames.SalePrice\n",
    "\n",
    "def scale_data(x,y):\n",
    "    std_scaled = StandardScaler()\n",
    "    scaled_x = std_scaled.fit_transform(x)\n",
    "    return scaled_x, y\n",
    "\n",
    "X_train, X_test, y_train, y_test = train_test_split(X,y)\n",
    "\n",
    "X_train, y_train = scale_data(X_train, y_train)\n",
    "X_test, y_test = scale_data(X_test, y_test)"
   ]
  },
  {
   "cell_type": "markdown",
   "metadata": {},
   "source": [
    "##### Lasso Regression with grid search for alpha to drop insignificant columns"
   ]
  },
  {
   "cell_type": "code",
   "execution_count": 7,
   "metadata": {},
   "outputs": [],
   "source": [
    "#pipeline standard scaler, lasso (grid search optimal alpha)\n",
    "pipe = make_pipeline(StandardScaler(), Lasso(tol=0.1))\n",
    "params = {'lasso__alpha' : [0.1, 0.5, 1, 1.5]}\n",
    "grid = GridSearchCV(pipe, param_grid=params, cv=5)\n",
    "grid.fit(X_train, y_train);\n",
    "\n",
    "#HOW DO YOU GET COEFFICIENTS AND NAMES OF COLUMNS FROM GRID SEARCH???!??!"
   ]
  },
  {
   "cell_type": "code",
   "execution_count": 8,
   "metadata": {},
   "outputs": [
    {
     "name": "stdout",
     "output_type": "stream",
     "text": [
      "\tOverallQual, 52335.237\n",
      "\tGrLivArea, 17093.997\n",
      "\tLotArea, 12693.203\n",
      "\tYearBuilt, 11985.017\n",
      "\tquality_test, -10021.076\n",
      "\tBldgType_TwnhsE, -6434.623\n",
      "\tBsmtQual, 6079.313\n",
      "\tBldgType_Twnhs, -5383.186\n",
      "\tRoofStyle_Gable, -4638.646\n",
      "\tFireplaceQu, 3778.476\n",
      "\tStreet_Pave, 3501.916\n",
      "\tCentralAir_Y, -3009.230\n",
      "\tLandSlope, -2655.804\n",
      "\tHeatingQC, 2357.020\n",
      "\tTotRmsAbvGrd, 1395.736\n",
      "\tMiscVal, -759.893\n",
      "\tRoofStyle_Hip, 758.800\n",
      "\tPoolQC, -653.219\n",
      "\tGarageQual, -494.028\n",
      "\tBldgType_2fmCon, 388.994\n",
      "\tRoofStyle_Shed, -383.811\n",
      "\tRoofStyle_Gambrel, -372.879\n",
      "\tRoofStyle_Mansard, -332.860\n",
      "\tBldgType_Duplex, 294.776\n"
     ]
    }
   ],
   "source": [
    "#get name of columns that are 'important'\n",
    "lasso_reg = Lasso(alpha=1.0, tol=1)\n",
    "lasso_reg.fit(X_train, y_train)\n",
    "for e in sorted (list(zip(list(X), lasso_reg.coef_)),\n",
    "                key = lambda e: -abs(e[1])):\n",
    "    if e[1] != 0:\n",
    "        print('\\t{}, {:.3f}'.format(e[0], e[1]))\n",
    "\n",
    "        \n",
    "#looks like everything has a significant coefficient. I did a good job feature selecting."
   ]
  },
  {
   "cell_type": "markdown",
   "metadata": {},
   "source": [
    "##### Linear, Ridge, Lasso, Elastic Net with polynoial Features to find best model"
   ]
  },
  {
   "cell_type": "code",
   "execution_count": 9,
   "metadata": {},
   "outputs": [],
   "source": [
    "#Function. Takes in model and parameter and returns best hyperparameter, r^2 and RMSE\n",
    "def linear_model_with_hyper_params(model, params):\n",
    "    pipe = make_pipeline(PolynomialFeatures(), model)\n",
    "    grid = GridSearchCV(pipe, param_grid=params, cv=3)\n",
    "    grid.fit(X_train, y_train)\n",
    "    best_params = str(grid.best_params_)\n",
    "    best = grid.best_estimator_\n",
    "    pred = best.predict(X_test)\n",
    "    rmse = np.sqrt(mean_squared_error(y_test, pred))\n",
    "    score = best.score(X_test, y_test)\n",
    "    print('Best Params are {}'.format(best_params), \n",
    "          '\\nThe r2 value is : {:.4f}'.format(score), \n",
    "          '\\nThe RMSE value is {:.4f}'.format(rmse))"
   ]
  },
  {
   "cell_type": "code",
   "execution_count": 10,
   "metadata": {},
   "outputs": [
    {
     "name": "stdout",
     "output_type": "stream",
     "text": [
      "Best Params are {'polynomialfeatures__degree': 1} \n",
      "The r2 value is : 0.7620 \n",
      "The RMSE value is 40134.9782\n"
     ]
    }
   ],
   "source": [
    "# Linear \n",
    "params = {'polynomialfeatures__degree' : [1, 2, 3]}\n",
    "linear_model_with_hyper_params(LinearRegression(), params)"
   ]
  },
  {
   "cell_type": "code",
   "execution_count": 11,
   "metadata": {},
   "outputs": [
    {
     "name": "stdout",
     "output_type": "stream",
     "text": [
      "Best Params are {'polynomialfeatures__degree': 1, 'ridge__alpha': 10} \n",
      "The r2 value is : 0.7617 \n",
      "The RMSE value is 40154.9122\n"
     ]
    }
   ],
   "source": [
    "# Lasso\n",
    "params = {'ridge__alpha' : [0.1, 1, 5, 10], 'polynomialfeatures__degree' : [1, 2, 3]}\n",
    "linear_model_with_hyper_params(Ridge(), params)"
   ]
  },
  {
   "cell_type": "code",
   "execution_count": 12,
   "metadata": {},
   "outputs": [
    {
     "name": "stdout",
     "output_type": "stream",
     "text": [
      "Best Params are {'lasso__alpha': 10, 'polynomialfeatures__degree': 1} \n",
      "The r2 value is : 0.7329 \n",
      "The RMSE value is 42518.9939\n"
     ]
    }
   ],
   "source": [
    "#Ridge\n",
    "params = {'lasso__alpha' : [0.1, 1, 5, 10], 'polynomialfeatures__degree' : [1, 2, 3]}\n",
    "linear_model_with_hyper_params(Lasso(tol=1), params)"
   ]
  },
  {
   "cell_type": "code",
   "execution_count": 13,
   "metadata": {},
   "outputs": [
    {
     "name": "stdout",
     "output_type": "stream",
     "text": [
      "Best Params are {'elasticnet__alpha': 1, 'polynomialfeatures__degree': 1} \n",
      "The r2 value is : 0.7565 \n",
      "The RMSE value is 40594.4771\n"
     ]
    }
   ],
   "source": [
    "#Elastic Net: HOW DO YOU PASS L1_Ratio AS HYPER PARAMETER???!?!?!?!\n",
    "params = {'elasticnet__alpha' : [0.1, 1, 5, 10], 'polynomialfeatures__degree' : [1, 2, 3]}\n",
    "linear_model_with_hyper_params(ElasticNet(tol=1), params)"
   ]
  },
  {
   "cell_type": "markdown",
   "metadata": {},
   "source": [
    "## CONCLUSION: Linear Regression seems to fit data the best. Will need to do a better job creating new features or doing better feature selection to improve RMSE and r-squared"
   ]
  }
 ],
 "metadata": {
  "kernelspec": {
   "display_name": "Python 3",
   "language": "python",
   "name": "python3"
  },
  "language_info": {
   "codemirror_mode": {
    "name": "ipython",
    "version": 3
   },
   "file_extension": ".py",
   "mimetype": "text/x-python",
   "name": "python",
   "nbconvert_exporter": "python",
   "pygments_lexer": "ipython3",
   "version": "3.6.5"
  }
 },
 "nbformat": 4,
 "nbformat_minor": 2
}
